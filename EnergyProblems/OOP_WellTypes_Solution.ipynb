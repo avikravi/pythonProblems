{
 "cells": [
  {
   "cell_type": "markdown",
   "metadata": {},
   "source": [
    "QUESTION:"
   ]
  },
  {
   "cell_type": "markdown",
   "metadata": {},
   "source": [
    "1) Create a class called Well"
   ]
  },
  {
   "cell_type": "code",
   "execution_count": 1,
   "metadata": {},
   "outputs": [],
   "source": [
    "import math\n",
    "\n",
    "class Well():\n",
    "    \n",
    "    def __init__(self):\n",
    "        \n",
    "        self.well_type = 'None'\n",
    "    \n",
    "    #member functions inside a class\n",
    "    def __str__(self):\n",
    "        \n",
    "        return 'My well type is ' + self.well_type\n",
    "\n",
    "# deriving a class\n",
    "class VerticalWell(Well):\n",
    "    \n",
    "    def __init__(self, depth):\n",
    "        \n",
    "        self.well_type = 'Vertical'\n",
    "        self.depth = depth\n",
    "        \n",
    "    def compute_well_volume(self, diameter):\n",
    "        \n",
    "        \n",
    "        return math.pi / 4 * diamter ** 2 *self.depth"
   ]
  },
  {
   "cell_type": "code",
   "execution_count": null,
   "metadata": {},
   "outputs": [],
   "source": []
  }
 ],
 "metadata": {
  "kernelspec": {
   "display_name": "Python 3",
   "language": "python",
   "name": "python3"
  },
  "language_info": {
   "codemirror_mode": {
    "name": "ipython",
    "version": 3
   },
   "file_extension": ".py",
   "mimetype": "text/x-python",
   "name": "python",
   "nbconvert_exporter": "python",
   "pygments_lexer": "ipython3",
   "version": "3.7.3"
  }
 },
 "nbformat": 4,
 "nbformat_minor": 2
}
