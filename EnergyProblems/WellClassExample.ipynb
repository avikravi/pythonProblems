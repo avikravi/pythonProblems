{
 "cells": [
  {
   "cell_type": "code",
   "execution_count": 32,
   "metadata": {},
   "outputs": [],
   "source": [
    "class Well():\n",
    "    \n",
    "    def __init__(self):\n",
    "        \n",
    "        self.well_type = 'None'\n",
    "        \n",
    "    def __str__(self):\n",
    "        \n",
    "        return \"My well type is: \" + self.well_type"
   ]
  },
  {
   "cell_type": "code",
   "execution_count": 33,
   "metadata": {},
   "outputs": [],
   "source": [
    "my_well = Well()"
   ]
  },
  {
   "cell_type": "code",
   "execution_count": 34,
   "metadata": {},
   "outputs": [
    {
     "name": "stdout",
     "output_type": "stream",
     "text": [
      "My well type is: None\n"
     ]
    }
   ],
   "source": [
    "print(my_well)"
   ]
  },
  {
   "cell_type": "code",
   "execution_count": 35,
   "metadata": {},
   "outputs": [],
   "source": [
    "import math\n",
    "\n",
    "class VerticalWell(Well):\n",
    "    \n",
    "    def __init__(self, depth=5000):\n",
    "        \n",
    "        self.well_type = 'Vertical'\n",
    "        self.depth = depth\n",
    "        \n",
    "    def compute_well_volume(self, diameter):\n",
    "        \n",
    "        return math.pi / 4 * diameter ** 2 * self.depth"
   ]
  },
  {
   "cell_type": "code",
   "execution_count": 48,
   "metadata": {},
   "outputs": [
    {
     "data": {
      "text/plain": [
       "981.7477042468104"
      ]
     },
     "execution_count": 48,
     "metadata": {},
     "output_type": "execute_result"
    }
   ],
   "source": [
    "my_well_1 = VerticalWell(depth=5000)\n",
    "my_well_1.compute_well_volume(0.5)"
   ]
  },
  {
   "cell_type": "code",
   "execution_count": 49,
   "metadata": {},
   "outputs": [
    {
     "data": {
      "text/plain": [
       "5000"
      ]
     },
     "execution_count": 49,
     "metadata": {},
     "output_type": "execute_result"
    }
   ],
   "source": [
    "my_well_2 = VerticalWell()\n",
    "my_well_2.depth"
   ]
  },
  {
   "cell_type": "code",
   "execution_count": 55,
   "metadata": {},
   "outputs": [],
   "source": [
    "class HorizontalWell(VerticalWell):\n",
    "    \n",
    "    def __init__(self, depth=5000, length=5000):\n",
    "        super().__init__(depth)\n",
    "        \n",
    "        self.well_type = 'Horizontal'\n",
    "        self.length = length\n",
    "        \n",
    "    def compute_well_volume(self, diameter):\n",
    "        \n",
    "        return math.pi / 4 * diameter ** 2 * self.length + super().compute_well_volume(diameter)"
   ]
  },
  {
   "cell_type": "code",
   "execution_count": 56,
   "metadata": {},
   "outputs": [],
   "source": [
    "my_well_3 = HorizontalWell()"
   ]
  },
  {
   "cell_type": "code",
   "execution_count": 57,
   "metadata": {},
   "outputs": [
    {
     "data": {
      "text/plain": [
       "5000"
      ]
     },
     "execution_count": 57,
     "metadata": {},
     "output_type": "execute_result"
    }
   ],
   "source": [
    "my_well_3.depth"
   ]
  },
  {
   "cell_type": "code",
   "execution_count": 58,
   "metadata": {},
   "outputs": [
    {
     "name": "stdout",
     "output_type": "stream",
     "text": [
      "My well type is: Horizontal\n"
     ]
    }
   ],
   "source": [
    "print(my_well_3)"
   ]
  },
  {
   "cell_type": "code",
   "execution_count": 59,
   "metadata": {},
   "outputs": [
    {
     "data": {
      "text/plain": [
       "1963.4954084936207"
      ]
     },
     "execution_count": 59,
     "metadata": {},
     "output_type": "execute_result"
    }
   ],
   "source": [
    "my_well_3.compute_well_volume(0.5)"
   ]
  }
 ],
 "metadata": {
  "kernelspec": {
   "display_name": "Python 3",
   "language": "python",
   "name": "python3"
  },
  "language_info": {
   "codemirror_mode": {
    "name": "ipython",
    "version": 3
   },
   "file_extension": ".py",
   "mimetype": "text/x-python",
   "name": "python",
   "nbconvert_exporter": "python",
   "pygments_lexer": "ipython3",
   "version": "3.7.3"
  }
 },
 "nbformat": 4,
 "nbformat_minor": 4
}
